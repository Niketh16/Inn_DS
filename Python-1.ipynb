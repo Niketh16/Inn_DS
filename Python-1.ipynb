{
 "cells": [
  {
   "cell_type": "markdown",
   "id": "a729585e",
   "metadata": {},
   "source": [
    "# *Variables*\n",
    "\n",
    "Variables are nothing but place holders to store the literal values. Variables can be accessed by their names and some rules have to be followed while naming variables\n",
    "Naming conventions for variables.\n",
    "\n",
    "• A variable name can only contain alphabets, numbers and under score\n",
    "\n",
    "• A variable name can only start with an underscore or an alphabet\n",
    "\n",
    "• A variable name can' be the same as any keyword(keywords are sequences of characters which have some special meaning to them)\n",
    "\n",
    "• A variable name can have any spaces between the various parts of the variabie. If we want to distinguish them, we can use and underscore or make the variable name CamelCase.\n",
    "\n",
    "variable_name VariableName\n",
    "\n",
    "- It is suggested that we make our variabele names as descriptive as possible\n",
    "\n",
    "age = 21 age = 21"
   ]
  },
  {
   "cell_type": "code",
   "execution_count": 6,
   "id": "c7227cf9",
   "metadata": {},
   "outputs": [
    {
     "name": "stdout",
     "output_type": "stream",
     "text": [
      "Enter your Name Niketh\n"
     ]
    }
   ],
   "source": [
    "var=input(\"Enter your Name \")"
   ]
  },
  {
   "cell_type": "code",
   "execution_count": 7,
   "id": "c366a429",
   "metadata": {},
   "outputs": [
    {
     "data": {
      "text/plain": [
       "'Niketh'"
      ]
     },
     "execution_count": 7,
     "metadata": {},
     "output_type": "execute_result"
    }
   ],
   "source": [
    "var"
   ]
  },
  {
   "cell_type": "code",
   "execution_count": 10,
   "id": "09d47c51",
   "metadata": {},
   "outputs": [],
   "source": [
    "var=1\n",
    "var=2"
   ]
  },
  {
   "cell_type": "code",
   "execution_count": 11,
   "id": "5fd04ab8",
   "metadata": {},
   "outputs": [
    {
     "name": "stdout",
     "output_type": "stream",
     "text": [
      "1\n",
      "2\n"
     ]
    }
   ],
   "source": [
    "print(1)\n",
    "print(2)"
   ]
  },
  {
   "cell_type": "code",
   "execution_count": 13,
   "id": "a74651cc",
   "metadata": {},
   "outputs": [
    {
     "name": "stdout",
     "output_type": "stream",
     "text": [
      "O\n",
      "|------\n",
      "|       |\n"
     ]
    }
   ],
   "source": [
    "print(\"O\")\n",
    "print('|',end=\"\")\n",
    "print('------')\n",
    "print('|       |')"
   ]
  },
  {
   "cell_type": "code",
   "execution_count": 16,
   "id": "8cf47748",
   "metadata": {},
   "outputs": [],
   "source": [
    "var = 10"
   ]
  },
  {
   "cell_type": "code",
   "execution_count": 39,
   "id": "44197036",
   "metadata": {},
   "outputs": [],
   "source": [
    "# Case Sensitive mnuemonic\n",
    "age_of_males=41\n",
    "AgeOfFemales=3  #Camel Case"
   ]
  },
  {
   "cell_type": "code",
   "execution_count": 38,
   "id": "b902cfb5",
   "metadata": {},
   "outputs": [
    {
     "data": {
      "text/plain": [
       "41"
      ]
     },
     "execution_count": 38,
     "metadata": {},
     "output_type": "execute_result"
    }
   ],
   "source": [
    "age_of_males"
   ]
  },
  {
   "cell_type": "code",
   "execution_count": 40,
   "id": "97cdb39a",
   "metadata": {},
   "outputs": [
    {
     "data": {
      "text/plain": [
       "3"
      ]
     },
     "execution_count": 40,
     "metadata": {},
     "output_type": "execute_result"
    }
   ],
   "source": [
    "AgeOfFemales\n"
   ]
  },
  {
   "cell_type": "code",
   "execution_count": 41,
   "id": "50f61df1",
   "metadata": {},
   "outputs": [],
   "source": [
    "#useless\n",
    "x,_y=1,2"
   ]
  },
  {
   "cell_type": "code",
   "execution_count": 42,
   "id": "0d3615c1",
   "metadata": {},
   "outputs": [
    {
     "data": {
      "text/plain": [
       "1"
      ]
     },
     "execution_count": 42,
     "metadata": {},
     "output_type": "execute_result"
    }
   ],
   "source": [
    "x"
   ]
  },
  {
   "cell_type": "code",
   "execution_count": 43,
   "id": "3962ccd5",
   "metadata": {},
   "outputs": [
    {
     "data": {
      "text/plain": [
       "2"
      ]
     },
     "execution_count": 43,
     "metadata": {},
     "output_type": "execute_result"
    }
   ],
   "source": [
    "_y"
   ]
  },
  {
   "cell_type": "code",
   "execution_count": 63,
   "id": "e70768f8",
   "metadata": {},
   "outputs": [],
   "source": [
    "#useless\n",
    "x, y, z = 1, 2.5 ,\"Hello\""
   ]
  },
  {
   "cell_type": "code",
   "execution_count": 60,
   "id": "1d847ade",
   "metadata": {},
   "outputs": [
    {
     "data": {
      "text/plain": [
       "int"
      ]
     },
     "execution_count": 60,
     "metadata": {},
     "output_type": "execute_result"
    }
   ],
   "source": [
    "type(x)"
   ]
  },
  {
   "cell_type": "code",
   "execution_count": 64,
   "id": "7ecbb6bf",
   "metadata": {},
   "outputs": [
    {
     "data": {
      "text/plain": [
       "float"
      ]
     },
     "execution_count": 64,
     "metadata": {},
     "output_type": "execute_result"
    }
   ],
   "source": [
    "type(y)"
   ]
  },
  {
   "cell_type": "code",
   "execution_count": 62,
   "id": "145b59e5",
   "metadata": {},
   "outputs": [
    {
     "data": {
      "text/plain": [
       "str"
      ]
     },
     "execution_count": 62,
     "metadata": {},
     "output_type": "execute_result"
    }
   ],
   "source": [
    "type(z)"
   ]
  },
  {
   "cell_type": "code",
   "execution_count": 65,
   "id": "ba900ea8",
   "metadata": {},
   "outputs": [
    {
     "name": "stdout",
     "output_type": "stream",
     "text": [
      "<class 'int'>\n",
      "<class 'float'>\n",
      "<class 'str'>\n"
     ]
    }
   ],
   "source": [
    "print(type(x))\n",
    "print(type(y))\n",
    "print(type(z))"
   ]
  },
  {
   "cell_type": "markdown",
   "id": "d016788d",
   "metadata": {},
   "source": [
    "# *Boolean Values*\n"
   ]
  },
  {
   "cell_type": "code",
   "execution_count": 79,
   "id": "51d61f83",
   "metadata": {},
   "outputs": [
    {
     "data": {
      "text/plain": [
       "bool"
      ]
     },
     "execution_count": 79,
     "metadata": {},
     "output_type": "execute_result"
    }
   ],
   "source": [
    "False\n",
    "type(True)"
   ]
  },
  {
   "cell_type": "code",
   "execution_count": 85,
   "id": "08edf40f",
   "metadata": {},
   "outputs": [
    {
     "data": {
      "text/plain": [
       "True"
      ]
     },
     "execution_count": 85,
     "metadata": {},
     "output_type": "execute_result"
    }
   ],
   "source": [
    "5>1"
   ]
  },
  {
   "cell_type": "code",
   "execution_count": 72,
   "id": "4427da62",
   "metadata": {},
   "outputs": [],
   "source": [
    "x=True\n",
    "y=False"
   ]
  },
  {
   "cell_type": "code",
   "execution_count": 73,
   "id": "f3710c49",
   "metadata": {},
   "outputs": [
    {
     "data": {
      "text/plain": [
       "True"
      ]
     },
     "execution_count": 73,
     "metadata": {},
     "output_type": "execute_result"
    }
   ],
   "source": [
    "x"
   ]
  },
  {
   "cell_type": "code",
   "execution_count": 78,
   "id": "6ada5e36",
   "metadata": {},
   "outputs": [],
   "source": [
    "None"
   ]
  },
  {
   "cell_type": "code",
   "execution_count": 76,
   "id": "401f1682",
   "metadata": {},
   "outputs": [
    {
     "data": {
      "text/plain": [
       "False"
      ]
     },
     "execution_count": 76,
     "metadata": {},
     "output_type": "execute_result"
    }
   ],
   "source": [
    "y"
   ]
  },
  {
   "cell_type": "code",
   "execution_count": 82,
   "id": "17ee0c3a",
   "metadata": {},
   "outputs": [
    {
     "name": "stdout",
     "output_type": "stream",
     "text": [
      "Enter Your Age23\n"
     ]
    }
   ],
   "source": [
    "age= int(input('Enter Your Age'))"
   ]
  },
  {
   "cell_type": "code",
   "execution_count": 83,
   "id": "d4932d65",
   "metadata": {},
   "outputs": [
    {
     "data": {
      "text/plain": [
       "int"
      ]
     },
     "execution_count": 83,
     "metadata": {},
     "output_type": "execute_result"
    }
   ],
   "source": [
    "type(age)"
   ]
  },
  {
   "cell_type": "code",
   "execution_count": 84,
   "id": "d050da6c",
   "metadata": {},
   "outputs": [
    {
     "data": {
      "text/plain": [
       "1"
      ]
     },
     "execution_count": 84,
     "metadata": {},
     "output_type": "execute_result"
    }
   ],
   "source": [
    "int(1.5)"
   ]
  },
  {
   "cell_type": "code",
   "execution_count": 87,
   "id": "92b3db29",
   "metadata": {},
   "outputs": [],
   "source": [
    "age=int(age)"
   ]
  },
  {
   "cell_type": "markdown",
   "id": "91018697",
   "metadata": {},
   "source": [
    "# *Literals and Variables*"
   ]
  },
  {
   "cell_type": "code",
   "execution_count": null,
   "id": "7c05f23c",
   "metadata": {},
   "outputs": [],
   "source": []
  },
  {
   "cell_type": "code",
   "execution_count": 1,
   "id": "50caeaac",
   "metadata": {},
   "outputs": [
    {
     "data": {
      "text/plain": [
       "\"strn\\\\'g\""
      ]
     },
     "execution_count": 1,
     "metadata": {},
     "output_type": "execute_result"
    }
   ],
   "source": [
    "r\"strn\\'g\""
   ]
  },
  {
   "cell_type": "code",
   "execution_count": 8,
   "id": "57705578",
   "metadata": {},
   "outputs": [],
   "source": [
    "Age = 29"
   ]
  },
  {
   "cell_type": "code",
   "execution_count": 10,
   "id": "c1db9202",
   "metadata": {},
   "outputs": [
    {
     "data": {
      "text/plain": [
       "'your age is Age'"
      ]
     },
     "execution_count": 10,
     "metadata": {},
     "output_type": "execute_result"
    }
   ],
   "source": [
    "f'your age is Age'"
   ]
  },
  {
   "cell_type": "code",
   "execution_count": 11,
   "id": "57543434",
   "metadata": {},
   "outputs": [
    {
     "name": "stdout",
     "output_type": "stream",
     "text": [
      "1\n",
      "1\n",
      "2\n",
      "2\n",
      "1\n",
      "2\n",
      "3\n",
      "1\n",
      "2\n",
      "4\n",
      "1\n",
      "2\n",
      "5\n",
      "1\n",
      "2\n",
      "6\n",
      "1\n",
      "2\n",
      "7\n",
      "1\n",
      "2\n",
      "8\n",
      "1\n",
      "2\n",
      "9\n",
      "1\n",
      "2\n"
     ]
    }
   ],
   "source": [
    "for i in range(1,10):\n",
    "    print(i)\n",
    "    for j in range(1,3):\n",
    "        print(j)"
   ]
  },
  {
   "cell_type": "markdown",
   "id": "1e5fbe45",
   "metadata": {},
   "source": [
    "#  *Model Building*"
   ]
  },
  {
   "cell_type": "code",
   "execution_count": null,
   "id": "61a04c8a",
   "metadata": {},
   "outputs": [],
   "source": [
    "from sklearn.linear model import "
   ]
  },
  {
   "cell_type": "code",
   "execution_count": null,
   "id": "cc3b76c8",
   "metadata": {},
   "outputs": [],
   "source": []
  },
  {
   "cell_type": "code",
   "execution_count": null,
   "id": "eed88346",
   "metadata": {},
   "outputs": [],
   "source": []
  },
  {
   "cell_type": "markdown",
   "id": "55093e7b",
   "metadata": {},
   "source": [
    "# *Writing Comments in Python*\n",
    "\n",
    "\n",
    "Commant is not a python statement and thus is ignored by python Interpreter. But, & is plain tend that documents what the program is and how it is construcied.\n",
    "It is siways good to wile a commend that describes purpose af each statamend included in a program.\n",
    "It Increases readabity of the progrum.\n",
    "I\n",
    "in Python, one can write comments as:\n",
    "1. Single Ene comment starting with a pound (# ign\n",
    "2. Paragraph comment that starts and ends with fires conseculive single quotes (\") or three consecutive double quotes\n",
    "()\n"
   ]
  },
  {
   "cell_type": "markdown",
   "id": "51891afd",
   "metadata": {},
   "source": [
    "# *Python Keywords*\n",
    "\n",
    "Keywords are the pre-defined or bust-in words whose meaning is atready known to python interpreter.\n",
    "Keywords are the reserved words in python\n",
    "We can't use a keyword as variable Tame, function name or any other identifie\n",
    "All the keyworda axcept True, False and None are in lowercase and they must be written as\n"
   ]
  },
  {
   "cell_type": "markdown",
   "id": "8511f68d",
   "metadata": {},
   "source": [
    "# *Identifiers*\n",
    "\n",
    "\n",
    "Identifers can be a combination of letters in lowercase (a to 2) or uppercase (A to 2) or digits (0 to 9) or an underscore\n",
    "O.\n",
    "2. An identifier cannot start with a digit. 1variable is invalld, but variable is perfectly fine\n",
    "\n",
    "3. Keywords cannot be used as kenthers.\n",
    "\n",
    "4. No special symbol can be used\n",
    "\n",
    "5. An identder can be of any length.\n",
    "\n",
    "Note-1:\n",
    "\n",
    "• Python is a case-sensitive language. This means, the identifiers amount. AMOUNT, and aMouNT are not the same\n",
    "\n",
    "• Aways name identibera that make sense. For axample, num la meaningful compared to x\n",
    "\n",
    "• Multiple words can be separated using an underscore. Ex, compound Intereat\n",
    "\n",
    "• We can also use camal-case style of writing. Le., capitalize every first letter of the word except the initial word wahol spaces. For example: camelCase Example"
   ]
  },
  {
   "cell_type": "code",
   "execution_count": null,
   "id": "1eb6799d",
   "metadata": {},
   "outputs": [],
   "source": []
  },
  {
   "cell_type": "code",
   "execution_count": 16,
   "id": "2cd7dca7",
   "metadata": {},
   "outputs": [],
   "source": [
    "Ava12345_=123"
   ]
  },
  {
   "cell_type": "code",
   "execution_count": 17,
   "id": "5bcd0664",
   "metadata": {},
   "outputs": [],
   "source": [
    "Ava12345_sa111111111111=12"
   ]
  },
  {
   "cell_type": "code",
   "execution_count": 20,
   "id": "ef548192",
   "metadata": {},
   "outputs": [],
   "source": [
    "_vari=1"
   ]
  },
  {
   "cell_type": "code",
   "execution_count": 21,
   "id": "52a853b7",
   "metadata": {},
   "outputs": [],
   "source": [
    "var_i=1"
   ]
  },
  {
   "cell_type": "markdown",
   "id": "516fd6de",
   "metadata": {},
   "source": [
    "# *Type Conversion*\n",
    "\n",
    "You can convert one variable type to another type using type(value)"
   ]
  },
  {
   "cell_type": "code",
   "execution_count": 4,
   "id": "8624eba1",
   "metadata": {},
   "outputs": [
    {
     "ename": "SyntaxError",
     "evalue": "invalid syntax (2874655119.py, line 2)",
     "output_type": "error",
     "traceback": [
      "\u001b[1;36m  File \u001b[1;32m\"C:\\Users\\niket\\AppData\\Local\\Temp\\ipykernel_14528\\2874655119.py\"\u001b[1;36m, line \u001b[1;32m2\u001b[0m\n\u001b[1;33m    var2=47.6 \"\"\"change to int\"\"\"\u001b[0m\n\u001b[1;37m              ^\u001b[0m\n\u001b[1;31mSyntaxError\u001b[0m\u001b[1;31m:\u001b[0m invalid syntax\n"
     ]
    }
   ],
   "source": [
    "# Preform \n",
    "\n",
    "var1=55 #change to float\n",
    "var2=47.6 \"\"\"change to int\"\"\"\n",
    "var3=98 \"\"\"change to str\"\"\""
   ]
  },
  {
   "cell_type": "code",
   "execution_count": 2,
   "id": "7b18e4d1",
   "metadata": {},
   "outputs": [
    {
     "name": "stdout",
     "output_type": "stream",
     "text": [
      "Help on built-in function print in module builtins:\n",
      "\n",
      "print(...)\n",
      "    print(value, ..., sep=' ', end='\\n', file=sys.stdout, flush=False)\n",
      "    \n",
      "    Prints the values to a stream, or to sys.stdout by default.\n",
      "    Optional keyword arguments:\n",
      "    file:  a file-like object (stream); defaults to the current sys.stdout.\n",
      "    sep:   string inserted between values, default a space.\n",
      "    end:   string appended after the last value, default a newline.\n",
      "    flush: whether to forcibly flush the stream.\n",
      "\n"
     ]
    }
   ],
   "source": [
    "help(print)"
   ]
  },
  {
   "cell_type": "code",
   "execution_count": null,
   "id": "fa858209",
   "metadata": {},
   "outputs": [],
   "source": []
  },
  {
   "cell_type": "code",
   "execution_count": null,
   "id": "3ee1df55",
   "metadata": {},
   "outputs": [],
   "source": []
  },
  {
   "cell_type": "code",
   "execution_count": null,
   "id": "204fe13d",
   "metadata": {},
   "outputs": [],
   "source": []
  },
  {
   "cell_type": "code",
   "execution_count": null,
   "id": "2d0c69d7",
   "metadata": {},
   "outputs": [],
   "source": []
  },
  {
   "cell_type": "code",
   "execution_count": null,
   "id": "3bac54a6",
   "metadata": {},
   "outputs": [],
   "source": []
  },
  {
   "cell_type": "code",
   "execution_count": null,
   "id": "db177eac",
   "metadata": {},
   "outputs": [],
   "source": []
  },
  {
   "cell_type": "code",
   "execution_count": null,
   "id": "d13b2ef3",
   "metadata": {},
   "outputs": [],
   "source": []
  },
  {
   "cell_type": "code",
   "execution_count": null,
   "id": "acf918da",
   "metadata": {},
   "outputs": [],
   "source": []
  },
  {
   "cell_type": "code",
   "execution_count": null,
   "id": "be343a61",
   "metadata": {},
   "outputs": [],
   "source": []
  },
  {
   "cell_type": "code",
   "execution_count": null,
   "id": "c557c119",
   "metadata": {},
   "outputs": [],
   "source": []
  },
  {
   "cell_type": "code",
   "execution_count": null,
   "id": "b6431c30",
   "metadata": {},
   "outputs": [],
   "source": []
  }
 ],
 "metadata": {
  "kernelspec": {
   "display_name": "Python 3 (ipykernel)",
   "language": "python",
   "name": "python3"
  },
  "language_info": {
   "codemirror_mode": {
    "name": "ipython",
    "version": 3
   },
   "file_extension": ".py",
   "mimetype": "text/x-python",
   "name": "python",
   "nbconvert_exporter": "python",
   "pygments_lexer": "ipython3",
   "version": "3.9.13"
  }
 },
 "nbformat": 4,
 "nbformat_minor": 5
}
